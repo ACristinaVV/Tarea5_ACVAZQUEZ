{
 "cells": [
  {
   "cell_type": "markdown",
   "metadata": {},
   "source": [
    "<img style=\"float: left; margin: 30px 15px 15px 15px;\" src=\"https://pngimage.net/wp-content/uploads/2018/06/logo-iteso-png-5.png\" width=\"300\" height=\"500\" /> \n",
    "    \n",
    "    \n",
    "### <font color='navy'> Simulación de procesos financieros. \n",
    "\n",
    "**Nombres:** Ana Cristina Vazquez Vargas  \n",
    "\n",
    "**Fecha:** 08 de Marzo del 2021\n",
    "\n",
    "**Expediente** : if721470\n",
    "**Profesor:** Oscar David Jaramillo Zuluaga.\n",
    "\n",
    "### LINK DE GITHUB:https://github.com/ACristinaVV/Tarea5_ACVAZQUEZ\n",
    "\n",
    "# Tarea 5: Clase 9. Distribución de Probabilidad"
   ]
  },
  {
   "cell_type": "code",
   "execution_count": 1,
   "metadata": {},
   "outputs": [],
   "source": [
    "from scipy import optimize\n",
    "from scipy.stats import beta\n",
    "import matplotlib.pyplot as plt\n",
    "import numpy as np\n",
    "import pandas as pd\n",
    "# %matplotlib notebook\n",
    "%matplotlib inline"
   ]
  },
  {
   "cell_type": "markdown",
   "metadata": {},
   "source": [
    "> Para las siguiente dos funciones, genere muestres aleatorias que distribuyan según la función dada usando el método de la transformada inversa y grafique el histograma de 1000 muestras generadas con el método de la transformada inversa y compárela con el función $f(x)$ **(recuerde que $f(x)$ es la distribución de probabilidad y $F(x)$ es la distribución de probabilidad acumulada)** [ver este enlace para más información](https://es.wikipedia.org/wiki/Funci%C3%B3n_de_distribuci%C3%B3n). Este procedimiento se realiza con el fín de validar que el procedimiento y los resultados son correctos.\n",
    "    \n",
    "> 1. Generación variable aleatoria continua\n",
    ">El tiempo en el cual un movimiento browniano se mantiene sobre su punto máximo en el intervalo [0,1] tiene una distribución\n",
    ">$$F(x)=\\frac{2}{\\pi}\\sin^{-1}(\\sqrt x),\\quad 0\\leq x\\leq 1$$ </font>\n",
    "\n"
   ]
  },
  {
   "cell_type": "markdown",
   "metadata": {},
   "source": [
    "### Procedimiento"
   ]
  },
  {
   "cell_type": "markdown",
   "metadata": {},
   "source": [
    "#### Paso 1: Igualar $F(x)$=$U$  \n",
    "$$\\frac{2}{\\pi}\\sin^{-1}(\\sqrt x)= U $$ \n",
    "\n",
    "#### Paso 2: Despejar $x$\n",
    "$$sin^{-1}(\\sqrt x)= \\frac{U\\pi}{2} $$  \n",
    ">$$sin(sin^{-1}(\\sqrt x))= sin(\\frac{U\\pi}{2}) $$ </font>\n",
    ">$${\\sqrt x}= sin(\\frac{U\\pi}{2}) $$ </font>  \n",
    ">$$ x= sin^{2}(\\frac{U\\pi}{2}) $$ </font>  \n",
    "\n",
    "#### Paso 3. Comprobar que $U \\sim U(0,1)$  \n",
    "Si $U=0$ entonces $$sin^{2}(\\frac{U\\pi}{2})=0$$  \n",
    "Si $U=1$ entonces $$sin^{2}(\\frac{U\\pi}{2})=1$$  \n",
    "Por lo tanto, $U \\sim U(0,1)$ \n",
    "\n",
    "#### Paso 4: Encontrar $f(x)$\n",
    "$$\\frac{dF(x)}{dx}$$\n",
    "donde $$F(x)=\\frac{2}{\\pi}\\sin^{-1}(\\sqrt x)$$ \n",
    "Consecuencia de esto  \n",
    "$$\\frac{1}{\\pi\\sqrt{x}\\sqrt{1-x}}$$\n",
    "#### Paso 5: Graficar $x$ (histograma) y $f(x)$ para comprobar lo calculado anteriormente\n"
   ]
  },
  {
   "cell_type": "code",
   "execution_count": 2,
   "metadata": {},
   "outputs": [],
   "source": [
    "def Distribucion (N):\n",
    "    return (np.sin((np.pi/2)*(np.random.random(N))))**2"
   ]
  },
  {
   "cell_type": "code",
   "execution_count": 3,
   "metadata": {},
   "outputs": [],
   "source": [
    "N=10000\n",
    "X = Distribucion(N)"
   ]
  },
  {
   "cell_type": "code",
   "execution_count": 4,
   "metadata": {},
   "outputs": [
    {
     "data": {
      "image/png": "[encoded data removed]",
      "text/plain": [
       "<Figure size 432x288 with 1 Axes>"
      ]
     },
     "metadata": {
      "needs_background": "light"
     },
     "output_type": "display_data"
    }
   ],
   "source": [
    "x = np.arange(0.01,1,0.01)\n",
    "y= 1/((np.pi*np.sqrt(x))*(np.sqrt(1-x)))\n",
    "\n",
    "\n",
    "plt.plot(x,y,linewidth=2,color='y')\n",
    "plt.hist(X,100,density=True)\n",
    "plt.xlabel('valores aleatorios')\n",
    "plt.ylabel('probabilidad')\n",
    "plt.title('Ejercicio 1')\n",
    "plt.show()"
   ]
  }
 ],
 "metadata": {
  "kernelspec": {
   "display_name": "Python 3",
   "language": "python",
   "name": "python3"
  },
  "language_info": {
   "codemirror_mode": {
    "name": "ipython",
    "version": 3
   },
   "file_extension": ".py",
   "mimetype": "text/x-python",
   "name": "python",
   "nbconvert_exporter": "python",
   "pygments_lexer": "ipython3",
   "version": "3.7.2"
  }
 },
 "nbformat": 4,
 "nbformat_minor": 4
}
